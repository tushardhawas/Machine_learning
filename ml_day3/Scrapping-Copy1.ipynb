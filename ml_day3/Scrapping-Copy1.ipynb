{
 "cells": [
  {
   "cell_type": "code",
   "execution_count": 22,
   "id": "d6413971-5163-4d21-b140-bab1658f93c7",
   "metadata": {
    "tags": []
   },
   "outputs": [],
   "source": [
    "import requests\n",
    "from bs4 import BeautifulSoup"
   ]
  },
  {
   "cell_type": "code",
   "execution_count": 23,
   "id": "1f9754ff-2d6c-4188-9779-2ce846863222",
   "metadata": {
    "tags": []
   },
   "outputs": [
    {
     "data": {
      "text/plain": [
       "'https://www.goodreads.com/quotes/tag/love'"
      ]
     },
     "execution_count": 23,
     "metadata": {},
     "output_type": "execute_result"
    }
   ],
   "source": [
    "url = \"https://www.goodreads.com/quotes/tag/love\"\n",
    "\n",
    "url.format(\"love\")"
   ]
  },
  {
   "cell_type": "code",
   "execution_count": 24,
   "id": "3001dd49-57cc-41f8-8259-7274e6d621ed",
   "metadata": {
    "tags": []
   },
   "outputs": [],
   "source": [
    "res =requests.get(url)"
   ]
  },
  {
   "cell_type": "code",
   "execution_count": 25,
   "id": "803f43b9-9f48-4f91-9ca5-7a3757e56629",
   "metadata": {
    "tags": []
   },
   "outputs": [],
   "source": [
    "soup = BeautifulSoup(res.text)"
   ]
  },
  {
   "cell_type": "code",
   "execution_count": 26,
   "id": "f14627e7-68bc-4b67-ae72-38fe190b5f18",
   "metadata": {
    "tags": []
   },
   "outputs": [],
   "source": [
    "f = open(\"res\",\"wb\")\n",
    "\n",
    "f.write(res.content)\n",
    "\n",
    "f.close()\n"
   ]
  },
  {
   "cell_type": "code",
   "execution_count": 27,
   "id": "15a25dc5-7ac0-4526-912f-a6de6fff16a4",
   "metadata": {
    "tags": []
   },
   "outputs": [],
   "source": [
    "links = soup.find_all(\"a\")"
   ]
  },
  {
   "cell_type": "code",
   "execution_count": 28,
   "id": "63c4b835-3516-485a-b879-382014fe0b0a",
   "metadata": {
    "tags": []
   },
   "outputs": [],
   "source": [
    "quote_divs = soup.find_all(\"div\",attrs={\"class\":\"quote\"})"
   ]
  },
  {
   "cell_type": "code",
   "execution_count": 29,
   "id": "69a93c20-8a28-4519-aa56-636405c05c86",
   "metadata": {
    "tags": []
   },
   "outputs": [],
   "source": [
    "quote_div = quote_divs[0]"
   ]
  },
  {
   "cell_type": "code",
   "execution_count": 30,
   "id": "c1b3cbda-9287-4ac4-9d25-e973b7581183",
   "metadata": {
    "tags": []
   },
   "outputs": [],
   "source": [
    "quote_text =quote_div.find_next(\"div\",attrs={\"class\":\"quoteText\"})"
   ]
  },
  {
   "cell_type": "code",
   "execution_count": 31,
   "id": "a267bd34-d091-4148-bb40-99d78aa8344b",
   "metadata": {
    "tags": []
   },
   "outputs": [
    {
     "data": {
      "text/plain": [
       "<div class=\"quoteText\">\n",
       "      “I'm selfish, impatient and a little insecure. I make mistakes, I am out of control and at times hard to handle. But if you can't handle me at my worst, then you sure as hell don't deserve me at my best.”\n",
       "    <br/>\n",
       "  ―\n",
       "  <span class=\"authorOrTitle\">\n",
       "    Marilyn Monroe\n",
       "  </span>\n",
       "</div>"
      ]
     },
     "execution_count": 31,
     "metadata": {},
     "output_type": "execute_result"
    }
   ],
   "source": [
    "quote_text"
   ]
  },
  {
   "cell_type": "code",
   "execution_count": 32,
   "id": "272ce0ff-d0c6-42ca-9f6d-7c7e5e950117",
   "metadata": {
    "tags": []
   },
   "outputs": [
    {
     "name": "stdout",
     "output_type": "stream",
     "text": [
      "“I'm selfish, impatient and a little insecure. I make mistakes, I am out of control and at times hard to handle. But if you can't handle me at my worst, then you sure as hell don't deserve me at my best.”\n",
      "    \n",
      "  ―\n",
      "  \n",
      "    Marilyn Monroe\n"
     ]
    }
   ],
   "source": [
    "print(quote_text.text.strip())"
   ]
  },
  {
   "cell_type": "code",
   "execution_count": 33,
   "id": "ec4c29bd-f8af-46bd-af37-f0a051b12a59",
   "metadata": {
    "tags": []
   },
   "outputs": [],
   "source": [
    "striped = quote_text.text.strip()"
   ]
  },
  {
   "cell_type": "code",
   "execution_count": 34,
   "id": "430698fc-5338-4f87-8df9-ea5b558943d4",
   "metadata": {
    "tags": []
   },
   "outputs": [],
   "source": [
    "striped_li = striped.split(\"\\n\")"
   ]
  },
  {
   "cell_type": "code",
   "execution_count": 35,
   "id": "de069cac-e827-4e7c-b978-543963293b23",
   "metadata": {
    "tags": []
   },
   "outputs": [
    {
     "data": {
      "text/plain": [
       "[\"“I'm selfish, impatient and a little insecure. I make mistakes, I am out of control and at times hard to handle. But if you can't handle me at my worst, then you sure as hell don't deserve me at my best.”\",\n",
       " '    ',\n",
       " '  ―',\n",
       " '  ',\n",
       " '    Marilyn Monroe']"
      ]
     },
     "execution_count": 35,
     "metadata": {},
     "output_type": "execute_result"
    }
   ],
   "source": [
    "striped_li"
   ]
  },
  {
   "cell_type": "code",
   "execution_count": 36,
   "id": "18c723d5-5b52-4359-a99b-6317b963618a",
   "metadata": {
    "tags": []
   },
   "outputs": [],
   "source": [
    "quote = striped_li[0]\n",
    "author = striped_li[-1].strip()"
   ]
  },
  {
   "cell_type": "code",
   "execution_count": 37,
   "id": "b79babc3-dee4-48b8-aef6-6d4deb21e83b",
   "metadata": {
    "tags": []
   },
   "outputs": [
    {
     "data": {
      "text/plain": [
       "\"“I'm selfish, impatient and a little insecure. I make mistakes, I am out of control and at times hard to handle. But if you can't handle me at my worst, then you sure as hell don't deserve me at my best.”\""
      ]
     },
     "execution_count": 37,
     "metadata": {},
     "output_type": "execute_result"
    }
   ],
   "source": [
    "quote\n"
   ]
  },
  {
   "cell_type": "code",
   "execution_count": 38,
   "id": "bd89ea59-14cf-4b98-b63e-f784c60e2e28",
   "metadata": {
    "tags": []
   },
   "outputs": [
    {
     "data": {
      "text/plain": [
       "'Marilyn Monroe'"
      ]
     },
     "execution_count": 38,
     "metadata": {},
     "output_type": "execute_result"
    }
   ],
   "source": [
    "author"
   ]
  },
  {
   "cell_type": "code",
   "execution_count": null,
   "id": "8579ce9a-ae74-4838-9e4d-86be88532312",
   "metadata": {},
   "outputs": [],
   "source": []
  },
  {
   "cell_type": "code",
   "execution_count": 39,
   "id": "5ccee16b-06d3-4fdf-9a30-81b428ca541d",
   "metadata": {},
   "outputs": [],
   "source": [
    " left_div =quote_div.find_next(\"div\",attrs={\"class\":\"left\"})\n"
   ]
  },
  {
   "cell_type": "code",
   "execution_count": 40,
   "id": "b24f996f-3794-4e69-9e47-60a80a9fca67",
   "metadata": {},
   "outputs": [
    {
     "data": {
      "text/plain": [
       "<div class=\"greyText smallText left\">\n",
       "     tags:\n",
       "       <a href=\"/quotes/tag/attributed-no-source\">attributed-no-source</a>,\n",
       "       <a href=\"/quotes/tag/best\">best</a>,\n",
       "       <a href=\"/quotes/tag/life\">life</a>,\n",
       "       <a href=\"/quotes/tag/love\">love</a>,\n",
       "       <a href=\"/quotes/tag/misattributed-marilyn-monroe\">misattributed-marilyn-monroe</a>,\n",
       "       <a href=\"/quotes/tag/mistakes\">mistakes</a>,\n",
       "       <a href=\"/quotes/tag/out-of-control\">out-of-control</a>,\n",
       "       <a href=\"/quotes/tag/truth\">truth</a>,\n",
       "       <a href=\"/quotes/tag/worst\">worst</a>\n",
       "</div>"
      ]
     },
     "execution_count": 40,
     "metadata": {},
     "output_type": "execute_result"
    }
   ],
   "source": [
    "left_div"
   ]
  },
  {
   "cell_type": "code",
   "execution_count": 41,
   "id": "f5d125f7-4496-4185-b8e0-b05cd6a0c376",
   "metadata": {},
   "outputs": [],
   "source": [
    "\n",
    "tags = [tag.text for tag in left_div.find_all(\"a\")]"
   ]
  },
  {
   "cell_type": "code",
   "execution_count": 42,
   "id": "2db6350d-4615-4f2c-8936-fdffc6861722",
   "metadata": {},
   "outputs": [
    {
     "data": {
      "text/plain": [
       "['attributed-no-source',\n",
       " 'best',\n",
       " 'life',\n",
       " 'love',\n",
       " 'misattributed-marilyn-monroe',\n",
       " 'mistakes',\n",
       " 'out-of-control',\n",
       " 'truth',\n",
       " 'worst']"
      ]
     },
     "execution_count": 42,
     "metadata": {},
     "output_type": "execute_result"
    }
   ],
   "source": [
    " tags"
   ]
  },
  {
   "cell_type": "code",
   "execution_count": null,
   "id": "6a23dadb-2768-461e-b511-9eb45008a312",
   "metadata": {},
   "outputs": [],
   "source": []
  },
  {
   "cell_type": "code",
   "execution_count": null,
   "id": "9511c1fd-6327-43a1-9185-9eb0a8d57cab",
   "metadata": {},
   "outputs": [],
   "source": []
  },
  {
   "cell_type": "code",
   "execution_count": null,
   "id": "3ec8370f-0899-4cc6-b39f-0d1fe486196f",
   "metadata": {},
   "outputs": [],
   "source": []
  },
  {
   "cell_type": "code",
   "execution_count": null,
   "id": "70e42bc7-8cfc-4688-9366-09b06714b957",
   "metadata": {},
   "outputs": [],
   "source": []
  },
  {
   "cell_type": "code",
   "execution_count": null,
   "id": "d3aa1308-e90b-4b6b-8b95-6912237609d8",
   "metadata": {},
   "outputs": [],
   "source": []
  },
  {
   "cell_type": "code",
   "execution_count": null,
   "id": "557722f9-4e73-4bb1-97c2-9bd18e5f34d2",
   "metadata": {},
   "outputs": [],
   "source": []
  },
  {
   "cell_type": "code",
   "execution_count": null,
   "id": "77755d94-e87e-47c7-acc8-17158f9e93f6",
   "metadata": {},
   "outputs": [],
   "source": []
  },
  {
   "cell_type": "code",
   "execution_count": null,
   "id": "305f46c6-615a-48c4-bc12-892a30cf22ab",
   "metadata": {},
   "outputs": [],
   "source": []
  },
  {
   "cell_type": "code",
   "execution_count": null,
   "id": "28848cd5-1e1d-4c86-a42d-d13363e53080",
   "metadata": {},
   "outputs": [],
   "source": []
  }
 ],
 "metadata": {
  "kernelspec": {
   "display_name": "Python 3 (ipykernel)",
   "language": "python",
   "name": "python3"
  },
  "language_info": {
   "codemirror_mode": {
    "name": "ipython",
    "version": 3
   },
   "file_extension": ".py",
   "mimetype": "text/x-python",
   "name": "python",
   "nbconvert_exporter": "python",
   "pygments_lexer": "ipython3",
   "version": "3.11.5"
  }
 },
 "nbformat": 4,
 "nbformat_minor": 5
}
