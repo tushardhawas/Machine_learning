{
 "cells": [
  {
   "cell_type": "code",
   "execution_count": 7,
   "id": "019c2df1-a60c-482e-a305-f1a11509bc78",
   "metadata": {},
   "outputs": [],
   "source": [
    "\n",
    "import requests \n",
    "\n"
   ]
  },
  {
   "cell_type": "code",
   "execution_count": 8,
   "id": "1ae0267d-ea4b-4868-b049-f3f2bafc6e76",
   "metadata": {
    "tags": []
   },
   "outputs": [],
   "source": [
    "url = \"https://media.istockphoto.com/id/523761634/photo/cute-panda-bear-climbing-in-tree.jpg?s=612x612&w=0&k=20&c=TxsmORsbuY1LpxQsc6T8fpWJo7lBwncciYhroAr8rXI=\"\n"
   ]
  },
  {
   "cell_type": "code",
   "execution_count": 9,
   "id": "72d026f3-5e09-4458-9ebb-afdf7c595e24",
   "metadata": {
    "tags": []
   },
   "outputs": [],
   "source": [
    "res = requests.get(url)"
   ]
  },
  {
   "cell_type": "code",
   "execution_count": 13,
   "id": "e95abb5e-d60e-4cd0-99af-84a6c1c72533",
   "metadata": {
    "tags": []
   },
   "outputs": [
    {
     "data": {
      "text/plain": [
       "200"
      ]
     },
     "execution_count": 13,
     "metadata": {},
     "output_type": "execute_result"
    }
   ],
   "source": [
    "res.status_code\n"
   ]
  },
  {
   "cell_type": "code",
   "execution_count": 15,
   "id": "6d6ef8c4-375d-4466-af44-5e46a8670a6e",
   "metadata": {
    "tags": []
   },
   "outputs": [],
   "source": [
    "f = open(\"panda.jpg\",\"wb\")\n",
    "\n",
    "f.write(res.content)\n",
    "\n",
    "f.close()\n"
   ]
  },
  {
   "cell_type": "code",
   "execution_count": null,
   "id": "64fdaff5-788b-4ce7-857c-ccba33f32aa7",
   "metadata": {},
   "outputs": [],
   "source": []
  }
 ],
 "metadata": {
  "kernelspec": {
   "display_name": "Python 3 (ipykernel)",
   "language": "python",
   "name": "python3"
  },
  "language_info": {
   "codemirror_mode": {
    "name": "ipython",
    "version": 3
   },
   "file_extension": ".py",
   "mimetype": "text/x-python",
   "name": "python",
   "nbconvert_exporter": "python",
   "pygments_lexer": "ipython3",
   "version": "3.11.5"
  }
 },
 "nbformat": 4,
 "nbformat_minor": 5
}
