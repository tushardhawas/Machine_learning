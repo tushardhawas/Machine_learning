{
 "cells": [
  {
   "cell_type": "code",
   "execution_count": 1,
   "id": "d6413971-5163-4d21-b140-bab1658f93c7",
   "metadata": {
    "tags": []
   },
   "outputs": [],
   "source": [
    "import requests\n",
    "from bs4 import BeautifulSoup"
   ]
  },
  {
   "cell_type": "code",
   "execution_count": 2,
   "id": "e14af352-1236-461f-8e8a-654f8b14c172",
   "metadata": {
    "tags": []
   },
   "outputs": [],
   "source": [
    "url = \"https://www.goodreads.com/quotes/tag/{}?page={}\"\n",
    "emotion = [\"love\",\"life\"]"
   ]
  },
  {
   "cell_type": "code",
   "execution_count": 3,
   "id": "8758003d-ce39-4783-b87a-afb0124bec0c",
   "metadata": {
    "tags": []
   },
   "outputs": [],
   "source": [
    "def get_quotes(url):\n",
    "    res =requests.get(url)\n",
    "\n",
    "    soup = BeautifulSoup(res.text)\n",
    "\n",
    "    quote_divs = soup.find_all(\"div\",attrs={\"class\":\"quote\"})\n",
    "\n",
    "    quotes=[]\n",
    "\n",
    "    for quote_div in quote_divs:\n",
    "        quote_text =quote_div.find_next(\"div\",attrs={\"class\":\"quoteText\"})\n",
    "\n",
    "        striped = quote_text.text.strip()\n",
    "        striped_li = striped.split(\"\\n\")\n",
    "\n",
    "        quote = striped_li[0][1:-1]\n",
    "        author = striped_li[-1].strip()\n",
    "\n",
    "        left_div =quote_div.find_next(\"div\",attrs={\"class\":\"left\"})\n",
    "        tags = [tag.text for tag in left_div.find_all(\"a\")]\n",
    "\n",
    "        quote_item ={\n",
    "                \"text\":quote,\n",
    "            \"author\": author,\n",
    "            \"tags\":tags\n",
    "        }\n",
    "        quotes.append(quote_item)\n",
    "\n",
    "    return quotes\n",
    "\n",
    "\n",
    "\n",
    "\n",
    "\n",
    "\n",
    "\n",
    "\n",
    "\n",
    "\n",
    "\n",
    "\n"
   ]
  },
  {
   "cell_type": "code",
   "execution_count": null,
   "id": "28848cd5-1e1d-4c86-a42d-d13363e53080",
   "metadata": {},
   "outputs": [],
   "source": [
    "\n"
   ]
  },
  {
   "cell_type": "code",
   "execution_count": 4,
   "id": "fa529f9f-cf74-4676-be42-a1d02d1df127",
   "metadata": {
    "tags": []
   },
   "outputs": [
    {
     "name": "stdout",
     "output_type": "stream",
     "text": [
      "processed 1\n",
      "processed 2\n",
      "processed 3\n",
      "processed 4\n",
      "processed 5\n"
     ]
    }
   ],
   "source": [
    "total =[]\n",
    "for i in range(1,6):\n",
    "    total.extend(get_quotes(url.format(\"sad\",i)))\n",
    "    print(\"processed\",i)"
   ]
  },
  {
   "cell_type": "code",
   "execution_count": 5,
   "id": "2c7d2ec8-553d-4500-8782-7e8f172601ba",
   "metadata": {
    "tags": []
   },
   "outputs": [],
   "source": [
    "import pandas as pd"
   ]
  },
  {
   "cell_type": "code",
   "execution_count": 11,
   "id": "30301042-4391-4ea3-aea2-f5b485dc8795",
   "metadata": {},
   "outputs": [],
   "source": [
    "df =pd.DataFrame(total)"
   ]
  },
  {
   "cell_type": "code",
   "execution_count": 12,
   "id": "9d0651eb-5466-4ab5-bb79-4f95f0599c94",
   "metadata": {},
   "outputs": [],
   "source": [
    "df.to_csv(\"scrap.csv\" , index =None)"
   ]
  },
  {
   "cell_type": "code",
   "execution_count": null,
   "id": "fd0b0652-9622-4efd-8015-9590352b3f38",
   "metadata": {},
   "outputs": [],
   "source": []
  },
  {
   "cell_type": "code",
   "execution_count": null,
   "id": "3453843a-7f7f-4cf7-b2ab-94299618da38",
   "metadata": {},
   "outputs": [],
   "source": []
  },
  {
   "cell_type": "code",
   "execution_count": null,
   "id": "ae90cdaa-ca6c-472b-8a92-84ed7ee8b388",
   "metadata": {},
   "outputs": [],
   "source": []
  },
  {
   "cell_type": "code",
   "execution_count": null,
   "id": "a2711f2e-6e52-4e05-8801-2a1fe1bbf7a4",
   "metadata": {},
   "outputs": [],
   "source": []
  },
  {
   "cell_type": "code",
   "execution_count": null,
   "id": "c1822cf8-4362-4342-be00-ee4f95e56bd1",
   "metadata": {},
   "outputs": [],
   "source": []
  },
  {
   "cell_type": "code",
   "execution_count": null,
   "id": "c2ebdb6b-8827-438d-82d4-46f67fa62e0b",
   "metadata": {},
   "outputs": [],
   "source": []
  },
  {
   "cell_type": "code",
   "execution_count": null,
   "id": "d78991d2-6df1-4a5b-a5ea-46559ef9d763",
   "metadata": {},
   "outputs": [],
   "source": []
  },
  {
   "cell_type": "code",
   "execution_count": null,
   "id": "49f77ce1-a249-4773-a757-5abcbf02c325",
   "metadata": {},
   "outputs": [],
   "source": []
  }
 ],
 "metadata": {
  "kernelspec": {
   "display_name": "Python 3 (ipykernel)",
   "language": "python",
   "name": "python3"
  },
  "language_info": {
   "codemirror_mode": {
    "name": "ipython",
    "version": 3
   },
   "file_extension": ".py",
   "mimetype": "text/x-python",
   "name": "python",
   "nbconvert_exporter": "python",
   "pygments_lexer": "ipython3",
   "version": "3.11.5"
  }
 },
 "nbformat": 4,
 "nbformat_minor": 5
}
